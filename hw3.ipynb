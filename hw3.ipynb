{
 "cells": [
  {
   "cell_type": "code",
   "execution_count": 1,
   "metadata": {},
   "outputs": [],
   "source": [
    "import kmeans as kmeans_custom\n",
    "import numpy as np\n",
    "import random\n",
    "import time\n",
    "import timeit"
   ]
  },
  {
   "cell_type": "code",
   "execution_count": 2,
   "metadata": {},
   "outputs": [],
   "source": [
    "data, labels = kmeans_custom.loadDataAndLabelsToNumpy('kmeans_data/data.csv', 'kmeans_data/label.csv')\n",
    "dataset = kmeans_custom.convertDataToInstances(data, labels)"
   ]
  },
  {
   "cell_type": "code",
   "execution_count": 3,
   "metadata": {},
   "outputs": [
    {
     "name": "stdout",
     "output_type": "stream",
     "text": [
      "Number of clusters (K): 10\n"
     ]
    }
   ],
   "source": [
    "k = len(set(labels))\n",
    "print(f\"Number of clusters (K): {k}\")"
   ]
  },
  {
   "cell_type": "code",
   "execution_count": 4,
   "metadata": {},
   "outputs": [
    {
     "name": "stdout",
     "output_type": "stream",
     "text": [
      "No change in centroids at iteration 35\n",
      "Euclidean K-Means SSE (No Change Centroid): 25368088201.059483\n",
      "Euclidean K-Means SSE (No Change Centroid) Time: 167.777528 seconds\n",
      "SSE increased at iteration 37\n",
      "Euclidean K-Means SSE (SSE Increase): 25454545873.911472\n",
      "Euclidean K-Means SSE (SSE Increase) Time: 179.520785 seconds\n",
      "Reached maximum iterations (100) at iteration 100\n",
      "Euclidean K-Means SSE (Max Iterations): 25354923634.57431\n",
      "Euclidean K-Means SSE (Max Iterations) Time: 482.673815 seconds\n"
     ]
    }
   ],
   "source": [
    "#Eucledian\n",
    "# No Change in Centroid Position\n",
    "start = timeit.default_timer()\n",
    "clustering_euclidean_nc = kmeans_custom.kmeans_with_conditions(dataset, k, metric='euclidean', termination_condition='centroid')\n",
    "print(f\"Euclidean K-Means SSE (No Change Centroid): {clustering_euclidean_nc['withinss']}\")\n",
    "stop = timeit.default_timer()\n",
    "elapsed_time = stop - start\n",
    "print(f'Euclidean K-Means SSE (No Change Centroid) Time: {elapsed_time:.6f} seconds')\n",
    "\n",
    "# SSE Increases\n",
    "start = timeit.default_timer()\n",
    "clustering_euclidean_sse = kmeans_custom.kmeans_with_conditions(dataset, k, metric='euclidean', termination_condition='sse_increase')\n",
    "print(f\"Euclidean K-Means SSE (SSE Increase): {clustering_euclidean_sse['withinss']}\")\n",
    "stop = timeit.default_timer()\n",
    "elapsed_time = stop - start\n",
    "print(f'Euclidean K-Means SSE (SSE Increase) Time: {elapsed_time:.6f} seconds')\n",
    "\n",
    "# Maximum Iterations\n",
    "start = timeit.default_timer()\n",
    "max_iterations = 100\n",
    "clustering_euclidean_max = kmeans_custom.kmeans_with_conditions(dataset, k, metric='euclidean', termination_condition='max_iters', max_iters=max_iterations)\n",
    "print(f\"Euclidean K-Means SSE (Max Iterations): {clustering_euclidean_max['withinss']}\")\n",
    "stop = timeit.default_timer()\n",
    "elapsed_time = stop - start\n",
    "print(f'Euclidean K-Means SSE (Max Iterations) Time: {elapsed_time:.6f} seconds')"
   ]
  },
  {
   "cell_type": "code",
   "execution_count": 8,
   "metadata": {},
   "outputs": [
    {
     "name": "stdout",
     "output_type": "stream",
     "text": [
      "No change in centroids at iteration 34\n",
      "Cosine K-Means SSE (No Change Centroid): 3679.847075037328\n",
      "Cosine K-Means SSE (No Change Centroid) Time: 249.476866 seconds\n",
      "SSE increased at iteration 38\n",
      "Cosine K-Means SSE (SSE Increase): 3660.33351448612\n",
      "Cosine K-Means SSE (SSE Increase) Time: 285.915065 seconds\n",
      "Reached maximum iterations (100) at iteration 100\n",
      "Cosine K-Means SSE (Max Iterations): 3660.374944465845\n",
      "Cosine K-Means SSE (Max Iterations) Time: 741.337896 seconds\n"
     ]
    }
   ],
   "source": [
    "#Cosine\n",
    "# No Change in Centroid Position\n",
    "start = timeit.default_timer()\n",
    "clustering_cosine_nc = kmeans_custom.kmeans_with_conditions(dataset, k, metric='cosine', termination_condition='centroid')\n",
    "print(f\"Cosine K-Means SSE (No Change Centroid): {clustering_euclidean_nc['withinss']}\")\n",
    "stop = timeit.default_timer()\n",
    "elapsed_time = stop - start\n",
    "print(f'Cosine K-Means SSE (No Change Centroid) Time: {elapsed_time:.6f} seconds')\n",
    "\n",
    "# SSE Increases\n",
    "start = timeit.default_timer()\n",
    "clustering_cosine_sse = kmeans_custom.kmeans_with_conditions(dataset, k, metric='cosine', termination_condition='sse_increase')\n",
    "print(f\"Cosine K-Means SSE (SSE Increase): {clustering_euclidean_sse['withinss']}\")\n",
    "stop = timeit.default_timer()\n",
    "elapsed_time = stop - start\n",
    "print(f'Cosine K-Means SSE (SSE Increase) Time: {elapsed_time:.6f} seconds')\n",
    "\n",
    "# Maximum Iterations\n",
    "start = timeit.default_timer()\n",
    "max_iterations = 100\n",
    "clustering_cosine_max = kmeans_custom.kmeans_with_conditions(dataset, k, metric='cosine', termination_condition='max_iters', max_iters=max_iterations)\n",
    "print(f\"Cosine K-Means SSE (Max Iterations): {clustering_euclidean_max['withinss']}\")\n",
    "stop = timeit.default_timer()\n",
    "elapsed_time = stop - start\n",
    "print(f'Cosine K-Means SSE (Max Iterations) Time: {elapsed_time:.6f} seconds')"
   ]
  },
  {
   "cell_type": "code",
   "execution_count": 9,
   "metadata": {},
   "outputs": [
    {
     "name": "stdout",
     "output_type": "stream",
     "text": [
      "No change in centroids at iteration 39\n",
      "Jaccard K-Means SSE (No Change Centroid): 3679.847075037328\n",
      "Jaccard K-Means SSE (No Change Centroid) Time: 517.787534 seconds\n",
      "SSE increased at iteration 76\n",
      "Jaccard K-Means SSE (SSE Increase): 3660.33351448612\n",
      "Jaccard K-Means SSE (SSE Increase) Time: 1005.972181 seconds\n",
      "Reached maximum iterations (100) at iteration 100\n",
      "Jaccard K-Means SSE (Max Iterations): 3660.374944465845\n",
      "Jaccard K-Means SSE (Max Iterations) Time: 1334.116252 seconds\n"
     ]
    }
   ],
   "source": [
    "#Jaccard\n",
    "# No Change in Centroid Position\n",
    "start = timeit.default_timer()\n",
    "clustering_jaccard_nc = kmeans_custom.kmeans_with_conditions(dataset, k, metric='jaccard', termination_condition='centroid')\n",
    "print(f\"Jaccard K-Means SSE (No Change Centroid): {clustering_euclidean_nc['withinss']}\")\n",
    "stop = timeit.default_timer()\n",
    "elapsed_time = stop - start\n",
    "print(f'Jaccard K-Means SSE (No Change Centroid) Time: {elapsed_time:.6f} seconds')\n",
    "\n",
    "# SSE Increases\n",
    "start = timeit.default_timer()\n",
    "clustering_jaccard_sse = kmeans_custom.kmeans_with_conditions(dataset, k, metric='jaccard', termination_condition='sse_increase')\n",
    "print(f\"Jaccard K-Means SSE (SSE Increase): {clustering_euclidean_sse['withinss']}\")\n",
    "stop = timeit.default_timer()\n",
    "elapsed_time = stop - start\n",
    "print(f'Jaccard K-Means SSE (SSE Increase) Time: {elapsed_time:.6f} seconds')\n",
    "\n",
    "# Maximum Iterations\n",
    "start = timeit.default_timer()\n",
    "max_iterations = 100\n",
    "clustering_jaccard_max = kmeans_custom.kmeans_with_conditions(dataset, k, metric='jaccard', termination_condition='max_iters', max_iters=max_iterations)\n",
    "print(f\"Jaccard K-Means SSE (Max Iterations): {clustering_euclidean_max['withinss']}\")\n",
    "stop = timeit.default_timer()\n",
    "elapsed_time = stop - start\n",
    "print(f'Jaccard K-Means SSE (Max Iterations) Time: {elapsed_time:.6f} seconds')"
   ]
  },
  {
   "cell_type": "code",
   "execution_count": 10,
   "metadata": {},
   "outputs": [
    {
     "name": "stdout",
     "output_type": "stream",
     "text": [
      "Euclidean K-Means SSE: 3660.374944465845\n",
      "Cosine K-Means SSE: 684.2704457668988\n",
      "Jaccard K-Means SSE: 3721.712440507276\n"
     ]
    }
   ],
   "source": [
    "#Q1\n",
    "\n",
    "print(f\"Euclidean K-Means SSE: {clustering_euclidean_max['withinss']}\")\n",
    "print(f\"Cosine K-Means SSE: {clustering_cosine_max['withinss']}\")\n",
    "print(f\"Jaccard K-Means SSE: {clustering_jaccard_max['withinss']}\")"
   ]
  },
  {
   "cell_type": "code",
   "execution_count": 11,
   "metadata": {},
   "outputs": [],
   "source": [
    "def label_clusters(clusters, labels, df):\n",
    "    df_list = [list(instance) for instance in df]\n",
    "    cluster_labels = []\n",
    "    for cluster in clusters:\n",
    "        if not cluster:\n",
    "            cluster_labels.append(None)\n",
    "            continue\n",
    "        label_counts = {}\n",
    "        for instance in cluster:\n",
    "            instance_index = df_list.index(list(instance))\n",
    "            instance_label = labels[instance_index]\n",
    "            label_counts[instance_label] = label_counts.get(instance_label, 0) + 1\n",
    "        most_frequent_label = max(label_counts, key=label_counts.get)\n",
    "        cluster_labels.append(most_frequent_label)\n",
    "    return cluster_labels\n",
    "\n",
    "def calculate_accuracy(clusters, cluster_labels, labels, df):\n",
    "    correct_assignments = 0\n",
    "    total_assignments = 0\n",
    "    df_list = [list(instance) for instance in df]\n",
    "    for cluster_index, cluster in enumerate(clusters):\n",
    "        assigned_label = cluster_labels[cluster_index]\n",
    "        if assigned_label is None:\n",
    "            continue\n",
    "        for instance in cluster:\n",
    "            instance_index = df_list.index(list(instance))\n",
    "            actual_label = labels[instance_index]\n",
    "            if actual_label == assigned_label:\n",
    "                correct_assignments += 1\n",
    "            total_assignments += 1\n",
    "    accuracy = correct_assignments / total_assignments if total_assignments > 0 else 0\n",
    "    return accuracy"
   ]
  },
  {
   "cell_type": "code",
   "execution_count": 22,
   "metadata": {},
   "outputs": [
    {
     "name": "stdout",
     "output_type": "stream",
     "text": [
      "Euclidean K-Means Accuracy: 60.40%\n",
      "Cosine K-Means Accuracy: 61.20%\n",
      "Jaccard K-Means Accuracy: 60.15%\n"
     ]
    }
   ],
   "source": [
    "#Q2\n",
    "\n",
    "# Convert dataset to list of instances\n",
    "df_list = [list(instance) for instance in dataset]  # 'dataset' is the original data\n",
    "labels_list = [instance[0] for instance in dataset]  # Extract labels from dataset\n",
    "\n",
    "euclidean_cluster_labels = label_clusters(clustering_euclidean_sse[\"clusters\"], labels_list, df_list)\n",
    "accuracy_euclidean = calculate_accuracy(clustering_euclidean_sse[\"clusters\"], euclidean_cluster_labels, labels_list, df_list)\n",
    "print(f\"Euclidean K-Means Accuracy: {accuracy_euclidean * 100:.2f}%\")\n",
    "\n",
    "cosine_cluster_labels = label_clusters(clustering_cosine_sse[\"clusters\"], labels_list, df_list)\n",
    "accuracy_cosine = calculate_accuracy(clustering_cosine_sse[\"clusters\"], cosine_cluster_labels, labels_list, df_list)\n",
    "print(f\"Cosine K-Means Accuracy: {accuracy_cosine * 100:.2f}%\")\n",
    "\n",
    "jaccard_cluster_labels = label_clusters(clustering_jaccard_sse[\"clusters\"], labels_list, df_list)\n",
    "accuracy_jaccard = calculate_accuracy(clustering_jaccard_sse[\"clusters\"], jaccard_cluster_labels, labels_list, df_list)\n",
    "print(f\"Jaccard K-Means Accuracy: {accuracy_jaccard * 100:.2f}%\")"
   ]
  },
  {
   "cell_type": "code",
   "execution_count": 19,
   "metadata": {},
   "outputs": [
    {
     "name": "stdout",
     "output_type": "stream",
     "text": [
      "Euclidean K-Means Iterations (No Change Centroid): 27\n",
      "Euclidean K-Means Iterations (SSE Increase): 69\n",
      "Euclidean K-Means Iterations (Max Iterations): 100\n",
      "\n",
      "Cosine K-Means Iterations (No Change Centroid): 34\n",
      "Cosine K-Means Iterations (SSE Increase): 38\n",
      "Cosine K-Means Iterations (Max Iterations): 100\n",
      "\n",
      "Jaccard K-Means Iterations (No Change Centroid): 39\n",
      "Jaccard K-Means Iterations (SSE Increase): 76\n",
      "Jaccard K-Means Iterations (Max Iterations): 100\n"
     ]
    }
   ],
   "source": [
    "#Q3\n",
    "\n",
    "print(f\"Euclidean K-Means Iterations (No Change Centroid): {clustering_euclidean_nc['iterations']}\")\n",
    "print(f\"Euclidean K-Means Iterations (SSE Increase): {clustering_euclidean_sse['iterations']}\")\n",
    "print(f\"Euclidean K-Means Iterations (Max Iterations): {clustering_euclidean_max['iterations']}\")\n",
    "print()\n",
    "\n",
    "print(f\"Cosine K-Means Iterations (No Change Centroid): {clustering_cosine_nc['iterations']}\")\n",
    "print(f\"Cosine K-Means Iterations (SSE Increase): {clustering_cosine_sse['iterations']}\")\n",
    "print(f\"Cosine K-Means Iterations (Max Iterations): {clustering_cosine_max['iterations']}\")\n",
    "print()\n",
    "\n",
    "print(f\"Jaccard K-Means Iterations (No Change Centroid): {clustering_jaccard_nc['iterations']}\")\n",
    "print(f\"Jaccard K-Means Iterations (SSE Increase): {clustering_jaccard_sse['iterations']}\")\n",
    "print(f\"Jaccard K-Means Iterations (Max Iterations): {clustering_jaccard_max['iterations']}\")"
   ]
  },
  {
   "cell_type": "code",
   "execution_count": 20,
   "metadata": {},
   "outputs": [
    {
     "name": "stdout",
     "output_type": "stream",
     "text": [
      "Euclidean K-Means SSE (No Change Centroid): 3679.847075037328\n",
      "Euclidean K-Means SSE (SSE Increase): 3660.33351448612\n",
      "Euclidean K-Means SSE (Max Iterations): 3660.374944465845\n",
      "\n",
      "Cosine K-Means SSE (No Change Centroid): 682.0152691353413\n",
      "Cosine K-Means SSE (SSE Increase): 681.9604397265435\n",
      "Cosine K-Means SSE (Max Iterations): 684.2704457668988\n",
      "\n",
      "Jaccard K-Means SSE (No Change Centroid): 3678.584777510406\n",
      "Jaccard K-Means SSE (SSE Increase): 3660.2835341475948\n",
      "Jaccard K-Means SSE (Max Iterations): 3721.712440507276\n"
     ]
    }
   ],
   "source": [
    "#Q4\n",
    "\n",
    "print(f\"Euclidean K-Means SSE (No Change Centroid): {clustering_euclidean_nc['withinss']}\")\n",
    "print(f\"Euclidean K-Means SSE (SSE Increase): {clustering_euclidean_sse['withinss']}\")\n",
    "print(f\"Euclidean K-Means SSE (Max Iterations): {clustering_euclidean_max['withinss']}\")\n",
    "print()\n",
    "\n",
    "print(f\"Cosine K-Means SSE (No Change Centroid): {clustering_cosine_nc['withinss']}\")\n",
    "print(f\"Cosine K-Means SSE (SSE Increase): {clustering_cosine_sse['withinss']}\")\n",
    "print(f\"Cosine K-Means SSE (Max Iterations): {clustering_cosine_max['withinss']}\")\n",
    "print()\n",
    "\n",
    "print(f\"Jaccard K-Means SSE (No Change Centroid): {clustering_jaccard_nc['withinss']}\")\n",
    "print(f\"Jaccard K-Means SSE (SSE Increase): {clustering_jaccard_sse['withinss']}\")\n",
    "print(f\"Jaccard K-Means SSE (Max Iterations): {clustering_jaccard_max['withinss']}\")"
   ]
  }
 ],
 "metadata": {
  "kernelspec": {
   "display_name": "Python 3",
   "language": "python",
   "name": "python3"
  },
  "language_info": {
   "codemirror_mode": {
    "name": "ipython",
    "version": 3
   },
   "file_extension": ".py",
   "mimetype": "text/x-python",
   "name": "python",
   "nbconvert_exporter": "python",
   "pygments_lexer": "ipython3",
   "version": "3.11.0"
  }
 },
 "nbformat": 4,
 "nbformat_minor": 2
}
